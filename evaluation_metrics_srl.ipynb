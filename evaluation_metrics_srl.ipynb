{
 "cells": [
  {
   "cell_type": "markdown",
   "metadata": {},
   "source": [
    "## Semantic Role Labeling metrics"
   ]
  },
  {
   "cell_type": "code",
   "execution_count": 44,
   "metadata": {},
   "outputs": [],
   "source": [
    "import numpy as np\n",
    "from sklearn.metrics import f1_score, confusion_matrix, recall_score, precision_score, roc_auc_score, accuracy_score\n",
    "import seaborn as sbn\n",
    "import matplotlib.pyplot as plt\n",
    "import pickle\n",
    "import numpy as np"
   ]
  },
  {
   "cell_type": "code",
   "execution_count": 45,
   "metadata": {},
   "outputs": [],
   "source": [
    "arg_pred = np.load(\"./predictions_srl_det/argument_eval.npy\")\n",
    "arg_real = np.load(\"./predictions_srl_det/arg_real_eval.npy\")\n",
    "mask = np.load(\"./predictions_srl_det/f_mask_eval.npy\")\n",
    "detection = np.load(\"./predictions_srl_det/detection_eval.npy\")\n"
   ]
  },
  {
   "cell_type": "code",
   "execution_count": 53,
   "metadata": {},
   "outputs": [
    {
     "name": "stdout",
     "output_type": "stream",
     "text": [
      "TP: 575  \n",
      "FN: 62 \n",
      "FP_v: 62\n",
      "F_det: 99 \n",
      "precision= 0.781250 \n",
      "recall= 0.902669\n",
      "f1-score = 0.837582\n",
      "accuracy = 0.720551\n"
     ]
    },
    {
     "data": {
      "text/plain": [
       "<matplotlib.axes._subplots.AxesSubplot at 0x7fb837713cc0>"
      ]
     },
     "execution_count": 53,
     "metadata": {},
     "output_type": "execute_result"
    },
    {
     "data": {
      "image/png": "[encoded data removed]",
      "text/plain": [
       "<Figure size 720x720 with 2 Axes>"
      ]
     },
     "metadata": {},
     "output_type": "display_data"
    }
   ],
   "source": [
    "##### just argument detection\n",
    "\n",
    "a = np.exp(detection)\n",
    "probs = a / np.expand_dims(np.sum(a, axis=2),axis=-1)\n",
    "is_arg = (probs[:,:,1] > 0.5)\n",
    "fin_mask = (arg_real> 0) | is_arg\n",
    "\n",
    "\n",
    "y_pre, y_true  = (arg_real>0)[fin_mask].flatten(), is_arg[fin_mask].flatten()\n",
    "\n",
    "TP,FN , F_det, FP_v = 0,0,0,0\n",
    "for i,j in zip(y_pre, y_true):\n",
    "    if i==j and i!= 0:\n",
    "        TP += 1\n",
    "    if j!=0 and i==0:\n",
    "        FN +=1\n",
    "    if (i!=0 and j==0):\n",
    "        F_det +=1\n",
    "    if (j!=0 and i!=j):\n",
    "        FP_v += 1\n",
    "        \n",
    "print(\"TP: %d  \\nFN: %d \\nFP_v: %d\\nF_det: %d \" % (TP, FN, FP_v, F_det))\n",
    "\n",
    "FP = F_det + FP_v\n",
    "\n",
    "precision = TP/(TP+FP)\n",
    "recall = TP/(TP+FN)\n",
    "\n",
    "print(\"precision= %f \\nrecall= %f\"%(precision, recall))\n",
    "\n",
    "\n",
    "f1 = 2*(precision*recall)/(precision+recall)\n",
    "\n",
    "print(\"f1-score = %f\"%(f1))\n",
    "\n",
    "\n",
    "accuracy = TP/(TP + FN + FP)\n",
    "print(\"accuracy = %f\" % (accuracy))\n",
    "\n",
    "\n",
    "cm = confusion_matrix(y_true, y_pre)\n",
    "cm = cm.astype('float') / cm.sum(axis=1)[:, np.newaxis]\n",
    "plt.figure(figsize=(10,10))\n",
    "sbn.heatmap(cm)"
   ]
  },
  {
   "cell_type": "code",
   "execution_count": 54,
   "metadata": {
    "scrolled": false
   },
   "outputs": [
    {
     "name": "stdout",
     "output_type": "stream",
     "text": [
      "TP: 444  \n",
      "FN: 103 \n",
      "FP_v: 230\n",
      "F_det: 40 \n",
      "precision= 0.621849 \n",
      "recall= 0.811700\n",
      "f1-score = 0.704203\n",
      "accuracy = 0.543452\n"
     ]
    },
    {
     "data": {
      "text/plain": [
       "<matplotlib.axes._subplots.AxesSubplot at 0x7fb83769c438>"
      ]
     },
     "execution_count": 54,
     "metadata": {},
     "output_type": "execute_result"
    },
    {
     "data": {
      "image/png": "[encoded data removed]",
      "text/plain": [
       "<Figure size 720x720 with 2 Axes>"
      ]
     },
     "metadata": {},
     "output_type": "display_data"
    }
   ],
   "source": [
    "#### argument metrics for SRL\n",
    "\n",
    "y_true, y_pre = arg_real[mask],  arg_pred[mask]\n",
    "\n",
    "TP,FN , F_det, FP_v = 0,0,0,0\n",
    "for i,j in zip(y_pre, y_true):\n",
    "    if i==j and i!= 0:\n",
    "        TP += 1\n",
    "    if j!=0 and i==0:\n",
    "        FN +=1\n",
    "    if (i!=0 and j==0):\n",
    "        F_det +=1\n",
    "    if (j!=0 and i!=j):\n",
    "        FP_v += 1\n",
    "        \n",
    "print(\"TP: %d  \\nFN: %d \\nFP_v: %d\\nF_det: %d \" % (TP, FN, FP_v, F_det))\n",
    "\n",
    "FP = F_det + FP_v\n",
    "\n",
    "precision = TP/(TP+FP)\n",
    "recall = TP/(TP+FN)\n",
    "\n",
    "print(\"precision= %f \\nrecall= %f\"%(precision, recall))\n",
    "\n",
    "\n",
    "f1 = 2*(precision*recall)/(precision+recall)\n",
    "\n",
    "print(\"f1-score = %f\"%(f1))\n",
    "\n",
    "\n",
    "accuracy = TP/(TP + FN + FP)\n",
    "print(\"accuracy = %f\" % (accuracy))\n",
    "cm = confusion_matrix(y_true, y_pre)\n",
    "cm = cm.astype('float') / cm.sum(axis=1)[:, np.newaxis]\n",
    "plt.figure(figsize=(10,10))\n",
    "sbn.heatmap(cm)"
   ]
  }
 ],
 "metadata": {
  "kernelspec": {
   "display_name": "conda_tensorflow_p36",
   "language": "python",
   "name": "conda_tensorflow_p36"
  },
  "language_info": {
   "codemirror_mode": {
    "name": "ipython",
    "version": 3
   },
   "file_extension": ".py",
   "mimetype": "text/x-python",
   "name": "python",
   "nbconvert_exporter": "python",
   "pygments_lexer": "ipython3",
   "version": "3.6.5"
  }
 },
 "nbformat": 4,
 "nbformat_minor": 2
}
