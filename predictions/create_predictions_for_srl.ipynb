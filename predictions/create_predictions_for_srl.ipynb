{
 "cells": [
  {
   "cell_type": "code",
   "execution_count": 87,
   "metadata": {},
   "outputs": [],
   "source": [
    "import numpy as np\n",
    "import pickle"
   ]
  },
  {
   "cell_type": "code",
   "execution_count": 88,
   "metadata": {},
   "outputs": [],
   "source": [
    "def count_num_pred(file):\n",
    "    with open(file, \"r\") as f:\n",
    "        len_sents = []\n",
    "        n_pred = 0\n",
    "        line = f.readline()\n",
    "        while True:\n",
    "            if line == \"\":\n",
    "                break\n",
    "            word = line.split(\"\\t\")\n",
    "            if word[0] != \"\\n\":\n",
    "                if word[13]!= \"_\" and word[13]!= \"_\\n\":\n",
    "                    n_pred += 1\n",
    "                line = f.readline()\n",
    "            else:  \n",
    "                len_sents.append(n_pred)\n",
    "                n_pred = 0\n",
    "                line = f.readline()\n",
    "\n",
    "        return len_sents                    \n",
    "\n",
    "\n",
    "arg_pos = pickle.load(open(\"./predictions_srl_det/arguments.pickle\", \"rb\"))\n",
    "\n",
    "inv_arg = {}\n",
    "for k in arg_pos:\n",
    "    inv_arg[arg_pos[k]] = k"
   ]
  },
  {
   "cell_type": "code",
   "execution_count": 89,
   "metadata": {},
   "outputs": [],
   "source": [
    "### load testverbs\n",
    "srl_arg = []\n",
    "detec_arg = []\n",
    "for i in range(30):\n",
    "    srl_arg.append(np.load(\"./predictions_srl_det/srl_\"+str(i)+\"_test.npy\"))\n",
    "    detec_arg.append(np.load(\"./predictions_srl_det/detection_\"+str(i)+\"_test.npy\"))\n",
    "    \n",
    "srl_arg = np.concatenate(srl_arg, axis=0)\n",
    "detec_arg = np.concatenate(detec_arg, axis=0)\n",
    "\n",
    "file_from = \"./data/TestData/test.csv\"\n",
    "num_pred = count_num_pred(file_from)\n"
   ]
  },
  {
   "cell_type": "code",
   "execution_count": 90,
   "metadata": {},
   "outputs": [],
   "source": [
    " def make_file_with_srl(file, to_file, srl, detection, inv_arg, num_pred):\n",
    "        with open(file, \"r\") as f , open(to_file, \"w\") as to_f:\n",
    "            sentence, sent_ind = 0, 0\n",
    "            w_ind = 0\n",
    "            a = np.exp(detection)\n",
    "            probs = a / np.expand_dims(np.sum(a, axis=2),axis=-1)\n",
    "            is_arg = (probs[:,:,1] > 0.5)\n",
    "            line = f.readline()\n",
    "            while True:\n",
    "                if line == \"\":\n",
    "                    break\n",
    "                word = line.split(\"\\t\")\n",
    "                if word[0] != \"\\n\":\n",
    "                    word[-1] = word[-1].split()[0]\n",
    "                    if num_pred[sentence]!=0:\n",
    "                        for pred in range(num_pred[sentence]):\n",
    "                            if is_arg[sent_ind , w_ind] == 1:\n",
    "                                word.append(inv_arg[srl[sent_ind, w_ind]])\n",
    "                                sent_ind += 1\n",
    "                            else:\n",
    "                                word.append(\"_\")\n",
    "                                sent_ind += 1\n",
    "                        \n",
    "                        \n",
    "                    to_f.write(\"\\t\".join(word)+\"\\n\")\n",
    "                    line = f.readline()\n",
    "                    w_ind += 1\n",
    "                    sent_ind -= num_pred[sentence]\n",
    "                    \n",
    "\n",
    "                else:                    \n",
    "                    w_ind = 0\n",
    "                    sent_ind += num_pred[sentence]\n",
    "                    sentence += 1\n",
    "                    to_f.write(\"\\n\")\n",
    "                    line = f.readline()\n",
    "                    \n",
    "                    \n"
   ]
  },
  {
   "cell_type": "code",
   "execution_count": 91,
   "metadata": {},
   "outputs": [],
   "source": [
    "make_file_with_srl(file_from, \"./test_with_arguments.txt\", srl_arg, detec_arg, inv_arg, num_pred)"
   ]
  },
  {
   "cell_type": "markdown",
   "metadata": {},
   "source": [
    "saving testverbs data"
   ]
  },
  {
   "cell_type": "code",
   "execution_count": 92,
   "metadata": {},
   "outputs": [],
   "source": [
    "### load testverbs\n",
    "srl_arg = []\n",
    "detec_arg = []\n",
    "for i in range(6):\n",
    "    srl_arg.append(np.load(\"./predictions_srl_det/srl_testverbs\"+str(i)+\".npy\"))\n",
    "    detec_arg.append(np.load(\"./predictions_srl_det/detection_testverb\"+str(i)+\".npy\"))\n",
    "    \n",
    "srl_arg = np.concatenate(srl_arg, axis=0)\n",
    "detec_arg = np.concatenate(detec_arg, axis=0)\n",
    "\n",
    "file_from = \"./testverbs_with_predicate.txt\"\n",
    "num_pred = count_num_pred(file_from)\n"
   ]
  },
  {
   "cell_type": "code",
   "execution_count": 93,
   "metadata": {},
   "outputs": [],
   "source": [
    "make_file_with_srl(file_from, \"./testverbs_with_arguments.txt\", srl_arg, detec_arg, inv_arg, num_pred)"
   ]
  }
 ],
 "metadata": {
  "kernelspec": {
   "display_name": "conda_tensorflow_p36",
   "language": "python",
   "name": "conda_tensorflow_p36"
  },
  "language_info": {
   "codemirror_mode": {
    "name": "ipython",
    "version": 3
   },
   "file_extension": ".py",
   "mimetype": "text/x-python",
   "name": "python",
   "nbconvert_exporter": "python",
   "pygments_lexer": "ipython3",
   "version": "3.6.5"
  }
 },
 "nbformat": 4,
 "nbformat_minor": 2
}
