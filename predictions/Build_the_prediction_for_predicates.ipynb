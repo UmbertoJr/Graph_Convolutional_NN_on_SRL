{
 "cells": [
  {
   "cell_type": "code",
   "execution_count": 1,
   "metadata": {},
   "outputs": [],
   "source": [
    "import numpy as np\n",
    "import pickle\n",
    "\n",
    "pred_pos = pickle.load(open(\"./predictions_actual/predicate.pickle\",\"rb\"))\n",
    "inv_pred = {}\n",
    "for k in pred_pos:\n",
    "    inv_pred[pred_pos[k]] = k\n",
    "    \n",
    "words_in ={}\n",
    "for k in pred_pos:\n",
    "    word = k.split(\".\")[0]\n",
    "    if word in words_in:\n",
    "        words_in[word].append(k)\n",
    "    else:\n",
    "        words_in[word] = [k]"
   ]
  },
  {
   "cell_type": "code",
   "execution_count": 2,
   "metadata": {},
   "outputs": [],
   "source": [
    " def make_file_with_predicates(file, to_file,pred):\n",
    "        with open(file, \"r\") as f , open(to_file, \"w\") as to_f:\n",
    "            sentence = 0\n",
    "            w_ind = 0\n",
    "            line = f.readline()\n",
    "            while True:\n",
    "                if line == \"\":\n",
    "                    break\n",
    "                word = line.split(\"\\t\")\n",
    "                if word[0] != \"\\n\":\n",
    "                    word[-1] = word[-1].split()[0]\n",
    "                    \n",
    "                    if pred[sentence,w_ind]==1:\n",
    "                        word.append(\"Y\")\n",
    "                        pred_dis = take_predicate(word[2], sentence, w_ind)\n",
    "                        if isinstance(pred_dis,str):\n",
    "                            word.append(pred_dis)\n",
    "                        else:\n",
    "                            word.append(word[2]+\".01\")\n",
    "\n",
    "                    else:\n",
    "                        word.append(\"_\")\n",
    "                        word.append(\"_\")\n",
    "                        \n",
    "                    to_f.write(\"\\t\".join(word)+\"\\n\")\n",
    "                    line = f.readline()\n",
    "                    w_ind += 1\n",
    "\n",
    "                else:                    \n",
    "                    w_ind = 0\n",
    "                    sentence += 1\n",
    "                    to_f.write(\"\\n\")\n",
    "                    line = f.readline()\n",
    "                    \n",
    "                    \n",
    "def take_predicate(word, sentence_ind, word_ind):\n",
    "    global words_in, predicate_disambiguation_test, inv_pred\n",
    "    #print(word in words_in)\n",
    "    for i in predicate_disambiguation_test[sentence_ind,word_ind,:]:\n",
    "        pred_word = inv_pred[i].split(\".\")[0]\n",
    "        if word == pred_word:\n",
    "            return inv_pred[i]\n",
    "    "
   ]
  },
  {
   "cell_type": "code",
   "execution_count": 3,
   "metadata": {},
   "outputs": [],
   "source": [
    "predicate_detection_test = np.load(\"./predictions_actual/predicate_detection_test.npy\") \n",
    "predicate_disambiguation_test = np.load(\"./predictions_actual/predicate_disambiguation_test.npy\")\n",
    "\n",
    "file_test = \"./data/TestData/testverbs.csv\"\n",
    "make_file_with_predicates(file_test, \"./testverbs_with_predicate.txt\", predicate_detection_test)"
   ]
  }
 ],
 "metadata": {
  "kernelspec": {
   "display_name": "conda_tensorflow_p36",
   "language": "python",
   "name": "conda_tensorflow_p36"
  },
  "language_info": {
   "codemirror_mode": {
    "name": "ipython",
    "version": 3
   },
   "file_extension": ".py",
   "mimetype": "text/x-python",
   "name": "python",
   "nbconvert_exporter": "python",
   "pygments_lexer": "ipython3",
   "version": "3.6.5"
  }
 },
 "nbformat": 4,
 "nbformat_minor": 2
}
